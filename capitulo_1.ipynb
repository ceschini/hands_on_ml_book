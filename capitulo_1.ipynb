{
 "cells": [
  {
   "cell_type": "markdown",
   "id": "enormous-browse",
   "metadata": {},
   "source": [
    "# Capítulo 1 - O Cenário do Aprendizado de Máquina"
   ]
  },
  {
   "cell_type": "markdown",
   "id": "meaningful-reflection",
   "metadata": {},
   "source": [
    "Códigos disponíveis em https://github.com/ageron/handson-ml"
   ]
  },
  {
   "cell_type": "markdown",
   "id": "patent-malpractice",
   "metadata": {},
   "source": [
    "### O que é aprendizado de máquina?"
   ]
  },
  {
   "cell_type": "markdown",
   "id": "frequent-second",
   "metadata": {},
   "source": [
    "Melhorar o desempenho de um algoritmo em alguma tarefa a partir dos dados, sem intuições humanas."
   ]
  },
  {
   "cell_type": "markdown",
   "id": "decent-mambo",
   "metadata": {},
   "source": [
    "### Por que utilizar o aprendizado de máquina?"
   ]
  },
  {
   "cell_type": "markdown",
   "id": "above-plasma",
   "metadata": {},
   "source": [
    "Porque algumas tarefas são ou muito complexas para a formulação manual, ou tediosas e repetitivas. Nesses casos os algoritmos de AM podem aprender padrões escondidos e se atualizarem automaticamente sem a interveção humana eterna."
   ]
  },
  {
   "cell_type": "markdown",
   "id": "joint-chart",
   "metadata": {},
   "source": [
    "### Notas"
   ]
  },
  {
   "cell_type": "markdown",
   "id": "express-credits",
   "metadata": {},
   "source": [
    "#### Mineração de Dados"
   ]
  },
  {
   "cell_type": "markdown",
   "id": "arctic-oxide",
   "metadata": {},
   "source": [
    "Aplicação de técnicas de AM para se aprofundar em grandes quantidades de dados afim de descobrir padrões que não são aparentes. Isso é fruto da inspeção do aprendizado dos algorítmos, entender como e o que eles aprenderam."
   ]
  },
  {
   "cell_type": "markdown",
   "id": "worst-diversity",
   "metadata": {},
   "source": [
    "#### Regressão"
   ]
  },
  {
   "cell_type": "markdown",
   "id": "ignored-germany",
   "metadata": {},
   "source": [
    "Prever um *alvo* de valor numérico, por exemplo o preço de um carro, a partir de um conjunto de características (quilometragem, idade, marca, etc.) denominadas *previsores*. Para treinar um sistema desses supervisionado, é preciso fornecer muitos exemplos de carros incluindo seus previsores e seus *labels* (ou seja, seus preços)."
   ]
  },
  {
   "cell_type": "markdown",
   "id": "stuffed-steering",
   "metadata": {},
   "source": [
    "Alguns algoritmos de regressão podem ser utilizados para classificação, como por exemplo *Regressão Logística*. Nesse caso, a regressão pode produzir um valor que corresponde à probabilidade de pertencer a uma determinada classe (por exemplo, 20% de chance de um e-mail ser spam)."
   ]
  },
  {
   "cell_type": "markdown",
   "id": "previous-workplace",
   "metadata": {},
   "source": [
    "#### Extração de características e/ou Redução da dimensionalidade"
   ]
  },
  {
   "cell_type": "markdown",
   "id": "rubber-engagement",
   "metadata": {},
   "source": [
    "Redução da dimensionalidade tem o objetivo de simplificar os dados sem perder muita informação. Faz isso mesclando várias características correlacionadas em uma. Por exemplo, a quilometragem de um carro pode estar diretamente relacionada ao seu tempo de uso, de modo que o algoritmo de redução de dimensionalidade irá mesclá-los em uma única característica, representando assim o desgaste do carro. Isso se chama *extração de características*."
   ]
  },
  {
   "cell_type": "markdown",
   "id": "single-wrestling",
   "metadata": {},
   "source": [
    "Essa extração de características é comum antes do treinamento de algoritmos supervisionados, faz com que ele execute mais rápido, com menor peso de armazenamento e, em alguns casos, pode melhorar o desempenho."
   ]
  },
  {
   "cell_type": "markdown",
   "id": "searching-ridge",
   "metadata": {},
   "source": [
    "#### Aprendizado em Lote"
   ]
  },
  {
   "cell_type": "markdown",
   "id": "social-gabriel",
   "metadata": {},
   "source": [
    "Aprendizado em lote é quando o sistema realiza o seu treinamento no conjunto inteiro de dados. Ele aprende de forma offline e depois disso é normalmente lançado em produção para executar com o que já foi aprendido, sem aprender com os novos dados. Nesses casos normalmente é feito de forma offline, pois requer um grande volume de recursos computacionais, como CPU, rede e memória. Quando é preciso aprender novamente, esse tipo de sistema deve ser treinado novamente com o conjunto inteiro dos dados, tanto os novos exemplos como os antigos."
   ]
  },
  {
   "cell_type": "markdown",
   "id": "missing-mayor",
   "metadata": {},
   "source": [
    "#### Aprendizado online"
   ]
  },
  {
   "cell_type": "markdown",
   "id": "killing-essence",
   "metadata": {},
   "source": [
    "No aprendizado online, o treinamento é feito de forma incremental, a partir de subconjuntos dos dados chamados de *minilotes*. Dessa forma é possível treinar o sistema de forma rápida e barata, sendo possível alimentá-lo com novos dados assim que eles forem gerados. O termo online não significa \"conectado na rede\", mas sim literalmente \"em linha\", no que tange ser sequencial e incremental."
   ]
  },
  {
   "cell_type": "markdown",
   "id": "saved-pittsburgh",
   "metadata": {},
   "source": [
    "Essa abordagem é muito boa quando não há muita potência computacional, ou quando os dados são gerados e variam de forma frequente, por exemplo no mercado de ações."
   ]
  },
  {
   "cell_type": "markdown",
   "id": "capital-budapest",
   "metadata": {},
   "source": [
    "#### Taxa de aprendizado"
   ]
  },
  {
   "cell_type": "markdown",
   "id": "attached-portland",
   "metadata": {},
   "source": [
    "É a rapidez com que os sistemas de aprendizado online devem se adaptar às mudanças dos dados."
   ]
  },
  {
   "cell_type": "markdown",
   "id": "canadian-belgium",
   "metadata": {},
   "source": [
    "Uma taxa de aprendizado alta significará que o sistema irá aprender e se adaptar rapidamente aos novos dados, mas pode esquecer o que foi aprendido com os mais antigos. Uma taxa baixa de aprendizado quer dizer que o sistema irá demorar mais para aprender com as novas amostras de dados, mas manterá uma maior consistência e não irá ser tão impactado com as novas amostras, que podem incluir anomalias."
   ]
  },
  {
   "cell_type": "markdown",
   "id": "synthetic-bottom",
   "metadata": {},
   "source": [
    "#### Generalização"
   ]
  },
  {
   "cell_type": "markdown",
   "id": "ethical-colon",
   "metadata": {},
   "source": [
    "É a habilidade do sistema de conseguir prever ou classificar um dado que ele ainda não conhece."
   ]
  },
  {
   "cell_type": "markdown",
   "id": "medical-helmet",
   "metadata": {},
   "source": [
    "\"Dada uma série de exemplos de treinamento, o sistema precisa ser capaz de generalizar em exemplos que nunca viu antes.\""
   ]
  },
  {
   "cell_type": "markdown",
   "id": "thermal-symposium",
   "metadata": {},
   "source": [
    "#### Aprendizado baseado em instância"
   ]
  },
  {
   "cell_type": "markdown",
   "id": "tribal-serial",
   "metadata": {},
   "source": [
    "O sistema aprende de acordo com o que ele já aprendeu, comparando as amostras novas com as antigas que ele já sabe. Isso requer uma *medida de similaridade*, isso é, o quão parecido o novo exemplo é de algum dos exemplos conhecidos."
   ]
  },
  {
   "cell_type": "markdown",
   "id": "faced-technique",
   "metadata": {},
   "source": [
    "#### Aprendizado baseado em modelo e Regressão Linear"
   ]
  },
  {
   "cell_type": "markdown",
   "id": "classified-politics",
   "metadata": {},
   "source": [
    "A partir de um conjunto de exemplos, é construído um modelo desses exemplos, capaz de fazer *previsões*."
   ]
  },
  {
   "cell_type": "markdown",
   "id": "universal-angle",
   "metadata": {},
   "source": [
    "#### Regressão Linear"
   ]
  },
  {
   "cell_type": "markdown",
   "id": "empirical-greene",
   "metadata": {},
   "source": [
    "Esse modelo pode ser uma função linear por exemplo, que o engenheiro acredita que possa ser utilizada para representar o problema. Esse ato é chamado de *seleção de modelo*. O engenheiro selecionou um modelo linear para um determinado problema. Esse modelo pode representar qualquer função linear, basta ajustar os *parâmetros do modelo*."
   ]
  },
  {
   "cell_type": "markdown",
   "id": "pursuant-steel",
   "metadata": {},
   "source": [
    "Para descobrir qual é a melhor funcão linear para seu problema, é necessário descobrir quais são os melhores parâmetros. Para isso, é necessário especificar uma medida de desempenho. Essa medida pode ser uma *função de utilidade* (ou *função fitness*) que mede o quão bom o modelo é, ou pode ser uma *função de custo*, que mede o quão *ruim* ele é."
   ]
  },
  {
   "cell_type": "markdown",
   "id": "suspected-detail",
   "metadata": {},
   "source": [
    "Problemas de regressão linear normalmente utilizam uma função de custo que mede a distância entre as previsões do modelo linear e os exemplos de treinamento, com o objetivo de minimizar essa distância."
   ]
  },
  {
   "cell_type": "markdown",
   "id": "aboriginal-graham",
   "metadata": {},
   "source": [
    "Ao alimentar com exemplos de treinamento um algoritmo de regressão linear, ele encontra os parâmetros que tornam o modelo linear mais adequado para os dados. Isso é chamado de *treinar* o modelo."
   ]
  },
  {
   "cell_type": "markdown",
   "id": "vocational-kernel",
   "metadata": {},
   "source": [
    "#### Inferência"
   ]
  },
  {
   "cell_type": "markdown",
   "id": "instrumental-novelty",
   "metadata": {},
   "source": [
    "Aplicar o modelo para fazer previsões em novos casos."
   ]
  },
  {
   "cell_type": "markdown",
   "id": "mature-chamber",
   "metadata": {},
   "source": [
    "## Principais Desafios do Aprendizado de Máquina"
   ]
  },
  {
   "cell_type": "markdown",
   "id": "adjacent-explosion",
   "metadata": {},
   "source": [
    "### Quantidade Insuficiente de Dados de Treinamento"
   ]
  },
  {
   "cell_type": "markdown",
   "id": "single-provincial",
   "metadata": {},
   "source": [
    "Algoritmos de aprendizado de máquina necessitam de milhares ou até milhões de exemplos para aprenderem. Em 2001, pesquisadores da Microsoft mostraram como diferentes algoritmos conseguem desempenho similar ao serem alimentados com grandes quantidades de dados. Isso levanta uma discussão entre o que é mais vantajoso, melhorar os algoritmos ou desenvolver mais o *corpus*. No artigo de 2009 de Perter Norvig, intitulado \"The Unreasonable Effectiveness of Data\", ele aponta que, para problemas complexos, os dados são mais importantes do que os algoritmos."
   ]
  },
  {
   "cell_type": "markdown",
   "id": "boolean-kelly",
   "metadata": {},
   "source": [
    "### Dados de Treinamento não Representativos"
   ]
  },
  {
   "cell_type": "markdown",
   "id": "tight-characterization",
   "metadata": {},
   "source": [
    "Os dados à disposição precisam representar o problema em que se deseja resolver. Nos casos em que há poucos exemplos, ou mesmo com muitos exemplos porém não representativos, o modelo irá aprender uma função que não corresponde com a realidade."
   ]
  },
  {
   "cell_type": "markdown",
   "id": "numeric-scroll",
   "metadata": {},
   "source": [
    "\"Ao utilizar um conjunto de treinamento não representativo, treinamos um modelo que dificilmente fará previsões precisas.\""
   ]
  },
  {
   "cell_type": "markdown",
   "id": "adopted-designer",
   "metadata": {},
   "source": [
    "Se a amostra for muito pequena, existirá *ruído de amostragem*, isso é, dados não representativos como resultado do acaso."
   ]
  },
  {
   "cell_type": "markdown",
   "id": "genetic-merit",
   "metadata": {},
   "source": [
    "Mesmo com amostras muito grandes, elas podem não ser representativas, **se o método de amostragem for falho**. Isso é chamado de *viés de amostragem*."
   ]
  },
  {
   "cell_type": "markdown",
   "id": "ancient-opinion",
   "metadata": {},
   "source": [
    "#### Viés de amostragem"
   ]
  },
  {
   "cell_type": "markdown",
   "id": "ethical-naples",
   "metadata": {},
   "source": [
    "Esse viés acontece quando os dados são recolidos de forma enviesada. Por exemplo, ao buscar informações tendenciosas, como a intenção de voto em uma eleição, é possível que as amostras fiquem enviesadas, de acordo com o método utilizado para a coleta da mesma. Se o método de coleta for via e-mail por exemplo, os dados serão enviesados ao assumir que todas as pessoas utilizam e possuem e-mail, e não aquelas com maior grau econômico. Nesse caso há um viés de amostragem, pois o resultado provavelmente favorecerá o candidato da classe alta, podendo ele não ser o favorito."
   ]
  },
  {
   "cell_type": "markdown",
   "id": "sensitive-chosen",
   "metadata": {},
   "source": [
    "### Dados de Baixa Qualidade"
   ]
  },
  {
   "cell_type": "markdown",
   "id": "executed-infrared",
   "metadata": {},
   "source": [
    "Se os dados de treinamento estiverem cheios de erros, outliers e ruídos, devido a medições de baixa qualidade, o sistema terá mais dificuldade de detectar padrões subjacentes, e com isso, menos propício a um bom funcionamento."
   ]
  },
  {
   "cell_type": "markdown",
   "id": "political-traveler",
   "metadata": {},
   "source": [
    "Muitas vezes vale a pena perder um tempo limpando os dados de treinamento. A maioria dos cientistas de dados gasta uma parte significativa de seu tempo fazendo isso."
   ]
  },
  {
   "cell_type": "markdown",
   "id": "unlimited-switch",
   "metadata": {},
   "source": [
    "### Características Irrelevantes"
   ]
  },
  {
   "cell_type": "markdown",
   "id": "south-bailey",
   "metadata": {},
   "source": [
    "O sistema só será capaz de aprender se os dados de treinamento contiverem características relevantes suficientes e poucas características irrelevantes. Uma parte crítica do sucesso de um projeto de Aprendizado de Máquina é criar um bom conjunto de características para o treinamento, processo chamado de *feature engineering*."
   ]
  },
  {
   "cell_type": "markdown",
   "id": "printable-jamaica",
   "metadata": {},
   "source": [
    "#### Feature Engineering"
   ]
  },
  {
   "cell_type": "markdown",
   "id": "studied-european",
   "metadata": {},
   "source": [
    "Esse processo envolve:\n",
    "- *Seleção das características*: selecionar as mais úteis para treinar entre as existentes;\n",
    "- *Extração das características*: combinar características existentes para produzir uma mais útil;\n",
    "- Criação de novas características ao coletar novos dados."
   ]
  },
  {
   "cell_type": "markdown",
   "id": "sensitive-monitor",
   "metadata": {},
   "source": [
    "### Sobreajustando os dados de treinamento"
   ]
  },
  {
   "cell_type": "markdown",
   "id": "theoretical-jewel",
   "metadata": {},
   "source": [
    "**Sobreajuste**: O modelo funciona bem nos dados de treinamento, mas não generaliza tão bem e com isso não consegue fazer previsões acuradas."
   ]
  },
  {
   "cell_type": "markdown",
   "id": "selective-inspector",
   "metadata": {},
   "source": [
    "Quando o conjunto de treinamento possui um número reduzido de amostras, e/ou um número grande de ruído e outliers, os algoritmos de aprendizado de máquina podem detectar padrões incorretos que não fazem sentido para o problema, acontecendo assim um sobreajuste."
   ]
  },
  {
   "cell_type": "markdown",
   "id": "mathematical-transmission",
   "metadata": {},
   "source": [
    "\"O sobreajuste acontece quando o modelo é muito complexo em relação à quantidade e ao ruído dos dados de treinamento\""
   ]
  },
  {
   "cell_type": "markdown",
   "id": "saved-multiple",
   "metadata": {},
   "source": [
    "As possíveis soluções incluem:\n",
    "- Simplificar o modelo ao selecionar um com menos parâmetros, reduzino o número de atributos nos dados de treinamento ou restringindo o modelo;\n",
    "- Coletar mais dados de treinamento;\n",
    "- Reduzir o ruído nos dados de treinamento, corrigindo erros de dados e removendo outliers."
   ]
  },
  {
   "cell_type": "markdown",
   "id": "civilian-knowing",
   "metadata": {},
   "source": [
    "**Regularização**: Quando restringimos um modelo para simplificar e reduzir o risco de sobreajuste."
   ]
  },
  {
   "cell_type": "markdown",
   "id": "horizontal-promise",
   "metadata": {},
   "source": [
    "Por exemplo, um modelo linear com dois parâmetros pode ajustar a sua linha tanto em relação à altura como ao à inclinação. Um modelo com apenas um parâmetros poderia somente ajustar sua altura, reduzindo demais assim a sua capacidade de se ajustar aos dados. Já um modelo com 3 ou mais parâmetros, poderia se ajustar perfeitamente ao conjunto de dados, porém não seria genérico o suficiente para lidar com novas amostras."
   ]
  },
  {
   "cell_type": "markdown",
   "id": "frequent-swedish",
   "metadata": {},
   "source": [
    "\"Queremos encontra o equilíbrio certo entre o ajuste perfeito dos dados e a necessidade de manter o modelo simples o suficiente para garantir que ele generalize bem.\""
   ]
  },
  {
   "cell_type": "markdown",
   "id": "interim-shelter",
   "metadata": {},
   "source": [
    "#### Hiperparâmetro"
   ]
  },
  {
   "cell_type": "markdown",
   "id": "unlimited-sixth",
   "metadata": {},
   "source": [
    "É um parâmetro de um algoritmo de *aprendizado*, e não do *modelo*. Como tal, não é afetado pelo próprio algoritmo de aprendizado; deve ser definido antes do treinamento e permanecer constante durante ele."
   ]
  },
  {
   "cell_type": "markdown",
   "id": "excessive-rochester",
   "metadata": {},
   "source": [
    "### Subajustando os dados de Treinamento"
   ]
  },
  {
   "cell_type": "markdown",
   "id": "crucial-paintball",
   "metadata": {},
   "source": [
    "Ao contrário do sobreajuste, o subajuste ocorre quando o modelo é **muito simples** para o aprendizado da estrutura subjacente dos dados. A realidade é mais complexa do que o modelo, por isso suas previsões tendem a ser imprecisas mesmo nos exemplos de treinamento."
   ]
  },
  {
   "cell_type": "markdown",
   "id": "interpreted-uniform",
   "metadata": {},
   "source": [
    "As principais opções para resolver esses problemas são:\n",
    "- Selecionar um modelo mais poderoso, com mais parâmetros;\n",
    "- Alimentar o algoritmo de aprendizado com melhores características (*feature engineering*);\n",
    "- Reduzir as restrições no modelo (por exemplo, reduzindo o hiperparâmetro de regularização)."
   ]
  },
  {
   "cell_type": "markdown",
   "id": "attached-harris",
   "metadata": {},
   "source": [
    "### Testando e Validando"
   ]
  },
  {
   "cell_type": "markdown",
   "id": "unexpected-rebate",
   "metadata": {},
   "source": [
    "A taxa de erro em novos casos é chamada de *erro de generalização*(ou *erro fora da amostra*). Ao avaliar o modelo no conjunto de teste, obtêm-se uma estimativa desse erro."
   ]
  },
  {
   "cell_type": "markdown",
   "id": "returning-depression",
   "metadata": {},
   "source": [
    "\"Se o erro de treinamento for baixo (ou seja, seu modelo comete alguns erros no conjunto de treinamento), mas seu erro de generalização é alto, isso significa que seu modelo está se sobreajustando aos dados de treinamento.\""
   ]
  },
  {
   "cell_type": "markdown",
   "id": "unexpected-laser",
   "metadata": {},
   "source": [
    "Para evitar o sobreajuste você pode optar por ajustar os hiperparâmetros de regularização, porém assim você acaba sobreajustando o modelo no conjunto de teste, que por sua vez pode não condizer com a realidade. Para resolver esse problema, é possível utilizar um segundo conjunto de retenção chamado de *conjunto de validação*."
   ]
  },
  {
   "cell_type": "markdown",
   "id": "functioning-governor",
   "metadata": {},
   "source": [
    "Você treina vários modelos com vários hiperparâmetros utilizando o conjunto de treinamento, seleciona o modelo e os hiperparâmetros que atuam melhor no conjunto de validação e, quando estiver satisfeito, executa um único teste final no conjunto de teste para obter uma estimativa do erro de generalização."
   ]
  },
  {
   "cell_type": "markdown",
   "id": "cognitive-bolivia",
   "metadata": {},
   "source": [
    "#### Validação Cruzada"
   ]
  },
  {
   "cell_type": "markdown",
   "id": "improved-beaver",
   "metadata": {},
   "source": [
    "Para evitar \"desperdiçar\" muitos dados de treinamento, é possível utilizar validação cruzada: O conjunto de treino é dividido em subconjuntos, sendo que cada modelo é treinado com uma combinação distinta desses subconjuntos, posteriormente sendo validado com os conjuntos restantes. O melhor modelo e seus hiperparâmetros são finalmente treinados com o conjunto completo de treinamento e o erro generalizado é medido no conjunto de testes."
   ]
  },
  {
   "cell_type": "markdown",
   "id": "packed-sacramento",
   "metadata": {},
   "source": [
    "### Exercícios"
   ]
  },
  {
   "cell_type": "markdown",
   "id": "round-animation",
   "metadata": {},
   "source": [
    "#### 1) Como você definiria o Aprendizado de Máquina?"
   ]
  },
  {
   "cell_type": "markdown",
   "id": "continental-vulnerability",
   "metadata": {},
   "source": [
    "A ciência de aperfeiçoar a solução de um problema a partir de exemplos de dados."
   ]
  },
  {
   "cell_type": "markdown",
   "id": "whole-height",
   "metadata": {},
   "source": [
    "#### 2) Você saberia nomear quatro tipos de problemas nos quais o AM se destaca?"
   ]
  },
  {
   "cell_type": "markdown",
   "id": "stuck-birth",
   "metadata": {},
   "source": [
    "Classificação, previsão, agrupamento, segmentação."
   ]
  },
  {
   "cell_type": "markdown",
   "id": "concrete-entertainment",
   "metadata": {},
   "source": [
    "*problemas complexos que não temos solução algorítmica, para substituir longas listas de regras ajustadas à mão, para construir sistemas que se adaptam a ambientes flutuantes e para ajudar humanos a aprender.*"
   ]
  },
  {
   "cell_type": "markdown",
   "id": "chief-sunday",
   "metadata": {},
   "source": [
    "#### 3) O que é um conjunto de treinamento rotulado?"
   ]
  },
  {
   "cell_type": "markdown",
   "id": "tamil-forum",
   "metadata": {},
   "source": [
    "É um conjunto de amostras de dados acompanhadas pela sua categorização."
   ]
  },
  {
   "cell_type": "markdown",
   "id": "living-ethics",
   "metadata": {},
   "source": [
    "#### 4) Quais são as duas tarefas supervisionadas mais comuns?"
   ]
  },
  {
   "cell_type": "markdown",
   "id": "graphic-combination",
   "metadata": {},
   "source": [
    "Classificação e regressão."
   ]
  },
  {
   "cell_type": "markdown",
   "id": "substantial-paris",
   "metadata": {},
   "source": [
    "#### 5) Você consegue nomear quatro tarefas comuns sem supervisão?"
   ]
  },
  {
   "cell_type": "markdown",
   "id": "monetary-hampton",
   "metadata": {},
   "source": [
    "Agrupamento, normalização, ..."
   ]
  },
  {
   "cell_type": "markdown",
   "id": "ideal-optics",
   "metadata": {},
   "source": [
    "*Clustering, visualização, redução da dimensionalidade e aprendizado de regras de associação.*"
   ]
  },
  {
   "cell_type": "markdown",
   "id": "endless-google",
   "metadata": {},
   "source": [
    "#### 6) Que tipo de algoritmo de Aprendizado de Máquina você utilizaria para permitir que um robô ande em vários terrenos desconhecidos?"
   ]
  },
  {
   "cell_type": "markdown",
   "id": "legendary-helmet",
   "metadata": {},
   "source": [
    "Um algoritmo não supervisionado, online e baseado em instância. Porque assim ele poderia aprender instantâneamente com os novos terrenos, utilizando como base o que ele já viu, e classificando puramente a partir do que ele está vendo."
   ]
  },
  {
   "cell_type": "markdown",
   "id": "manufactured-county",
   "metadata": {},
   "source": [
    "*Aprendizado por Reforço*"
   ]
  },
  {
   "cell_type": "markdown",
   "id": "herbal-stewart",
   "metadata": {},
   "source": [
    "#### 7) Que tipo de algoritmo você utilizaria para segmentar seus clientes em vários grupos?"
   ]
  },
  {
   "cell_type": "markdown",
   "id": "negative-afghanistan",
   "metadata": {},
   "source": [
    "Um algoritmo semi-supervisionado, em lotes e baseado em modelo. Assim ele vai criar seus próprios agrupamentos, aprendendo a partir dos dados mas também com as sugestões e correções dos clientes. Re aprendendo a cada dia que passa e elaborando um modelo que se encaixa melhor nessa distribuição, prevendo assim os próximos clientes que viriam chegando."
   ]
  },
  {
   "cell_type": "markdown",
   "id": "invisible-dispatch",
   "metadata": {},
   "source": [
    "#### 8) Você enquadraria o problema da detecção de spam como um problema de aprendizado supervisionado ou sem supervisão?"
   ]
  },
  {
   "cell_type": "markdown",
   "id": "agricultural-jenny",
   "metadata": {},
   "source": [
    "Depende, já que isso é um problema conhecido a priori, pode ser considerado supervisionado, pois o engenheiro é capaz de descrever o problema com clareza e assim elaborar um algoritmo bom. Mas caso o spam seja algo novo e ainda não explorado, poderia ser visto como um caso de sem supervisão, deixando o algoritmo como encarregado de detectar. Eu diria que em um primeiro momento ele é semi-supervisionado, agrupando com o que ele já tem e posteriormente aprendendo no decorrer da utilização dos usuários e suas classificações manuais."
   ]
  },
  {
   "cell_type": "markdown",
   "id": "alpine-position",
   "metadata": {},
   "source": [
    "#### 9) O que é um sistema de aprendizado online?"
   ]
  },
  {
   "cell_type": "markdown",
   "id": "gross-vintage",
   "metadata": {},
   "source": [
    "É um sistema que aprende de forma incremental, que recebe os dados de forma sequencial e em pequenos pedaços, aprendendo assim sucessivamente no decorrer da alimentação de exemplos e dados."
   ]
  },
  {
   "cell_type": "markdown",
   "id": "gross-coordination",
   "metadata": {},
   "source": [
    "#### 10) O que é o *out-of-core learning*?"
   ]
  },
  {
   "cell_type": "markdown",
   "id": "resistant-college",
   "metadata": {},
   "source": [
    "É o aprendizado a partir de pedaços sequenciais dos dados que não estão presentes na máquina local, sendo requisitados de forma externa."
   ]
  },
  {
   "cell_type": "markdown",
   "id": "australian-disorder",
   "metadata": {},
   "source": [
    "#### 11) Que tipo de algoritmo de aprendizado depende de uma medida de similaridade para fazer previsões?"
   ]
  },
  {
   "cell_type": "markdown",
   "id": "reliable-intellectual",
   "metadata": {},
   "source": [
    "O algoritmo não supervisionado."
   ]
  },
  {
   "cell_type": "markdown",
   "id": "later-inclusion",
   "metadata": {},
   "source": [
    "#### 12) Qual a diferença entre um parâmetro de modelo e o hiperparâmetro do algoritmo de aprendizado?"
   ]
  },
  {
   "cell_type": "markdown",
   "id": "banner-specification",
   "metadata": {},
   "source": [
    "O hiperparâmetro do algoritmo de aprendizado é uma constante utilizada para ajustar o valor do parâmetro de modelo."
   ]
  },
  {
   "cell_type": "markdown",
   "id": "vulnerable-three",
   "metadata": {},
   "source": [
    "#### 13) O que os algoritmos de aprendizado baseados em modelos procuram? Qual é a estratégia mais comum que eles utilizam para ter sucesso? Como fazem previsões?"
   ]
  },
  {
   "cell_type": "markdown",
   "id": "polyphonic-typing",
   "metadata": {},
   "source": [
    "Esses algoritmos procuram uma função que represente de forma genérica porém com acurácia os dados esperados. A estratégia mais comum que eles utilizam para ter sucesso é o ajuste dos parâmetros a partir de uma função de perda que seja capaz de quantificar o quão próximo estão do resultado esperado. Eles fazem previsões a partir da função modelada no treinamento."
   ]
  },
  {
   "cell_type": "markdown",
   "id": "danish-sphere",
   "metadata": {},
   "source": [
    "#### 14) Você pode citar quatro dos principais desafios no Aprendizado de Máquina?"
   ]
  },
  {
   "cell_type": "markdown",
   "id": "uniform-turner",
   "metadata": {},
   "source": [
    "Dados que não representam bem o problema, dados com baixa qualidade, poucos dados e sobreajuste dos modelos."
   ]
  },
  {
   "cell_type": "markdown",
   "id": "possible-measurement",
   "metadata": {},
   "source": [
    "#### 15) Se o seu modelo é ótimo nos dados de treinamento, mas generaliza mal para novas instâncias, o que está acontecendo? Você pode nomear três soluções possíveis?"
   ]
  },
  {
   "cell_type": "markdown",
   "id": "formed-desire",
   "metadata": {},
   "source": [
    "Está ocorrendo o sobreajuste. O seu modelo está muito específico para os dados de treino e não generalizam bem. Para corrigir isso é possível obter mais amostras, simplificar o modelo ou melhorar as características dos dados."
   ]
  },
  {
   "cell_type": "markdown",
   "id": "printable-personal",
   "metadata": {},
   "source": [
    "#### 16) O que é um conjunto de testes e por que você o utilizaria?"
   ]
  },
  {
   "cell_type": "markdown",
   "id": "assumed-marathon",
   "metadata": {},
   "source": [
    "Um conjunto de testes é um conjunto que não foi utilizado para treinar o modelo e possui amostras de dados que o modelo desconhece. Eu utilizaria esse conjunto para avaliar na prática o quão bom o meu modelo conseguiu generalizar o problema, estimando assim o quão eficaz e acurado o meu modelo é em produção."
   ]
  },
  {
   "cell_type": "markdown",
   "id": "favorite-coral",
   "metadata": {},
   "source": [
    "#### 17) Qual é o propósito de um conjunto de validação?"
   ]
  },
  {
   "cell_type": "markdown",
   "id": "alpha-syracuse",
   "metadata": {},
   "source": [
    "Validar os hiperparâmetros do modelo que foi treinado. Assim é possível ajustar o modelo sem que ele fique sobreajustado ao conjunto de teste."
   ]
  },
  {
   "cell_type": "markdown",
   "id": "equal-millennium",
   "metadata": {},
   "source": [
    "#### 18) O que pode dar errado se você ajustar os hiperparâmetros utilizando o conjunto de teste?"
   ]
  },
  {
   "cell_type": "markdown",
   "id": "laden-underwear",
   "metadata": {},
   "source": [
    "É possível que ele fique sobreajustado ao conjunto de teste e assim não generalize bem com as novas amostras."
   ]
  },
  {
   "cell_type": "markdown",
   "id": "classified-workplace",
   "metadata": {},
   "source": [
    "#### 19) O que é validação cruzada e por que você preferiria usá-la ao invés de um conjunto de validação?"
   ]
  },
  {
   "cell_type": "markdown",
   "id": "material-remove",
   "metadata": {},
   "source": [
    "A validação cruzada é a técnica de dividir o conjunto de treino em subconjuntos e treinar cada um dos modelos com uma combinação variada deles. Posteriormente os conjuntos que sobram são utilizados para a validação. O melhor modelo é treinado por fim com o conjunto completo de treino e depois validado uma única vez no conjunto de teste. É preferível utilizar esse tipo de validação para assim não desperdiçar muitas amostras de teste(?)."
   ]
  }
 ],
 "metadata": {
  "kernelspec": {
   "display_name": "Python 3",
   "language": "python",
   "name": "python3"
  },
  "language_info": {
   "codemirror_mode": {
    "name": "ipython",
    "version": 3
   },
   "file_extension": ".py",
   "mimetype": "text/x-python",
   "name": "python",
   "nbconvert_exporter": "python",
   "pygments_lexer": "ipython3",
   "version": "3.8.5"
  }
 },
 "nbformat": 4,
 "nbformat_minor": 5
}
