{
 "cells": [
  {
   "cell_type": "markdown",
   "id": "second-preliminary",
   "metadata": {},
   "source": [
    "# Capítulo 3 - Classificação"
   ]
  },
  {
   "cell_type": "markdown",
   "id": "patient-spokesman",
   "metadata": {},
   "source": [
    "## MNIST"
   ]
  },
  {
   "cell_type": "markdown",
   "id": "fewer-calgary",
   "metadata": {},
   "source": [
    "Iremos trabalhar encima do MNIST, o conjunto de dados mais clássico para classificação. Consiste em 70 mil pequenas imagens de dígitos escritos a mão."
   ]
  },
  {
   "cell_type": "code",
   "execution_count": 1,
   "id": "capable-supervisor",
   "metadata": {},
   "outputs": [],
   "source": [
    "import numpy as np"
   ]
  },
  {
   "cell_type": "code",
   "execution_count": 2,
   "id": "alleged-joining",
   "metadata": {},
   "outputs": [],
   "source": [
    "# funcao para ordenar o dataset como ele era antigamente\n",
    "def sort_by_target(mnist):\n",
    "    reorder_train = np.array(sorted([(target, i) for i, target in enumerate(mnist.target[:60000])]))[:, 1]\n",
    "    reorder_test = np.array(sorted([(target, i) for i, target in enumerate(mnist.target[60000:])]))[:, 1]\n",
    "    mnist.data[:60000] = mnist.data[reorder_train]\n",
    "    mnist.target[:60000] = mnist.target[reorder_train]\n",
    "    mnist.data[60000:] = mnist.data[reorder_test + 60000]\n",
    "    mnist.target[60000:] = mnist.target[reorder_test + 60000]"
   ]
  },
  {
   "cell_type": "code",
   "execution_count": 3,
   "id": "activated-pasta",
   "metadata": {},
   "outputs": [
    {
     "data": {
      "text/plain": [
       "(array([[0., 0., 0., ..., 0., 0., 0.],\n",
       "        [0., 0., 0., ..., 0., 0., 0.],\n",
       "        [0., 0., 0., ..., 0., 0., 0.],\n",
       "        ...,\n",
       "        [0., 0., 0., ..., 0., 0., 0.],\n",
       "        [0., 0., 0., ..., 0., 0., 0.],\n",
       "        [0., 0., 0., ..., 0., 0., 0.]]),\n",
       " array([0, 0, 0, ..., 9, 9, 9], dtype=int8))"
      ]
     },
     "execution_count": 3,
     "metadata": {},
     "output_type": "execute_result"
    }
   ],
   "source": [
    "try:\n",
    "    from sklearn.datasets import fetch_openml\n",
    "    mnist = fetch_openml('mnist_784', version=1, cache=True, as_frame=False)\n",
    "    mnist.target = mnist.target.astype(np.int8) # fetch_openml() returns targets as strings\n",
    "    sort_by_target(mnist) # fetch_openml() returns an unsorted dataset\n",
    "except ImportError:\n",
    "    from sklearn.datasets import fetch_mldata\n",
    "    mnist = fetch_mldata('MNIST original')\n",
    "mnist[\"data\"], mnist[\"target\"]"
   ]
  },
  {
   "cell_type": "markdown",
   "id": "italic-happening",
   "metadata": {},
   "source": [
    "Os conjuntos de dados carregados pelo scikit-learn geralmente possuem uma estrutura similar ao dicionário, incluindo:\n",
    "\n",
    "- Uma chave DESCR que descreve o conjunto de dados;\n",
    "- Uma chave de **dados** que contém um array com uma linha por instância e uma coluna por característica;\n",
    "- Uma chave alvo contendo um array com rótulos."
   ]
  },
  {
   "cell_type": "code",
   "execution_count": 4,
   "id": "extra-somewhere",
   "metadata": {},
   "outputs": [
    {
     "name": "stdout",
     "output_type": "stream",
     "text": [
      "(70000, 784)\n",
      "(70000,)\n"
     ]
    }
   ],
   "source": [
    "X, y = mnist[\"data\"], mnist[\"target\"]\n",
    "print(X.shape)\n",
    "print(y.shape)"
   ]
  },
  {
   "cell_type": "markdown",
   "id": "solar-thumbnail",
   "metadata": {},
   "source": [
    "Existem 70 mil imagens e cada imagem possui 784 características. Cada imagem tem 28 x 28 pixels, onde cada característica representa a intensidade de um pixel, variando de 0(branco) até 255(preto)."
   ]
  },
  {
   "cell_type": "markdown",
   "id": "sorted-platinum",
   "metadata": {},
   "source": [
    "Vamos pegar um vetor de características de uma instância, remodelá-lo para um array de 28 x 28 e exibi-lo com **imshow()** da biblioteca matplotlib."
   ]
  },
  {
   "cell_type": "code",
   "execution_count": 5,
   "id": "architectural-cross",
   "metadata": {},
   "outputs": [
    {
     "data": {
      "image/png": "[encoded data removed]",
      "text/plain": [
       "<Figure size 432x288 with 1 Axes>"
      ]
     },
     "metadata": {
      "needs_background": "light"
     },
     "output_type": "display_data"
    }
   ],
   "source": [
    "%matplotlib inline\n",
    "import matplotlib\n",
    "import matplotlib.pyplot as plt\n",
    "\n",
    "some_digit = X[36000]\n",
    "some_digit_image = some_digit.reshape(28, 28)\n",
    "\n",
    "plt.imshow(some_digit_image, cmap = matplotlib.cm.binary,\n",
    "          interpolation=\"nearest\")\n",
    "plt.axis(\"off\")\n",
    "plt.show()"
   ]
  },
  {
   "cell_type": "markdown",
   "id": "prepared-upgrade",
   "metadata": {},
   "source": [
    "De acordo com o rótulo, isso é um 5:"
   ]
  },
  {
   "cell_type": "code",
   "execution_count": 6,
   "id": "covered-detector",
   "metadata": {},
   "outputs": [
    {
     "data": {
      "text/plain": [
       "5"
      ]
     },
     "execution_count": 6,
     "metadata": {},
     "output_type": "execute_result"
    }
   ],
   "source": [
    "y[36000]"
   ]
  },
  {
   "cell_type": "markdown",
   "id": "saved-jones",
   "metadata": {},
   "source": [
    "O conjunto de dados MNIST já está dividido em um conjunto de treinamento (as primeiras 60 mil imagens) e um conjunto de teste (as últimas 10 mil imagens)"
   ]
  },
  {
   "cell_type": "code",
   "execution_count": 7,
   "id": "flexible-appreciation",
   "metadata": {},
   "outputs": [],
   "source": [
    "X_train, X_test, y_train, y_test = X[:60000], X[60000:], y[:60000], y[60000:]"
   ]
  },
  {
   "cell_type": "markdown",
   "id": "modern-communist",
   "metadata": {},
   "source": [
    "Como os símbolos estão em sequência, iremos embaralhar o conjunto de treinamento para garantir que cada subconjunto de validação possua uma certa heterogeneidade. Isso evita que os algoritmos de treinamento modelem de forma incorreta, ao receberem em sequência muitas instâncias similares."
   ]
  },
  {
   "cell_type": "code",
   "execution_count": 8,
   "id": "transparent-worker",
   "metadata": {},
   "outputs": [],
   "source": [
    "import numpy as np\n",
    "\n",
    "shuffle_index = np.random.permutation(60000)\n",
    "X_train, y_train = X_train[shuffle_index], y_train[shuffle_index]"
   ]
  },
  {
   "cell_type": "markdown",
   "id": "different-poetry",
   "metadata": {},
   "source": [
    "### Treinando um Classificador Binário"
   ]
  },
  {
   "cell_type": "markdown",
   "id": "oriental-substance",
   "metadata": {},
   "source": [
    "Vamos começar simplesmente classificando um único simbolo, como o dígito 5."
   ]
  },
  {
   "cell_type": "code",
   "execution_count": 9,
   "id": "refined-optimum",
   "metadata": {},
   "outputs": [],
   "source": [
    "y_train_5 = (y_train == 5)  # Pegando todos os 5\n",
    "y_test_5 = (y_test == 5)"
   ]
  },
  {
   "cell_type": "markdown",
   "id": "framed-westminster",
   "metadata": {},
   "source": [
    "Agora vamos escolher um classificador e treiná-lo. \"Um bom lugar para começar é com um classificador de Gradiente Descendente Estocástico (SGD, do inglês) com a utilização da classe do scikit-learn\". Esse classificador depende da aleatoriedade durante o treinamento (daí o nome \"*estocástico*\"). É necessário definir o parâmetro **random_state** se desejar resultados reprodutíveis."
   ]
  },
  {
   "cell_type": "code",
   "execution_count": 10,
   "id": "little-collection",
   "metadata": {},
   "outputs": [
    {
     "data": {
      "text/plain": [
       "array([ True])"
      ]
     },
     "execution_count": 10,
     "metadata": {},
     "output_type": "execute_result"
    }
   ],
   "source": [
    "from sklearn.linear_model import SGDClassifier\n",
    "\n",
    "sgd_clf = SGDClassifier(random_state=42)\n",
    "sgd_clf.fit(X_train, y_train_5)\n",
    "sgd_clf.predict([some_digit])"
   ]
  },
  {
   "cell_type": "markdown",
   "id": "mature-large",
   "metadata": {},
   "source": [
    "O classificador supôs de forma certeira que a imagem some_digit representa um 5. Agora, avaliaremos o desempenho desse modelo."
   ]
  },
  {
   "cell_type": "markdown",
   "id": "entertaining-grammar",
   "metadata": {},
   "source": [
    "### Medições de Desempenho"
   ]
  },
  {
   "cell_type": "markdown",
   "id": "clean-correlation",
   "metadata": {},
   "source": [
    "#### Medindo Acurácia com a Validação Cruzada"
   ]
  },
  {
   "cell_type": "markdown",
   "id": "average-enough",
   "metadata": {},
   "source": [
    "Iremos escrever uma implementação da validação cruzada, afim de termos mais controle sobre o processo."
   ]
  },
  {
   "cell_type": "code",
   "execution_count": 11,
   "id": "broad-circulation",
   "metadata": {},
   "outputs": [
    {
     "name": "stdout",
     "output_type": "stream",
     "text": [
      "0.95845\n",
      "0.9598\n",
      "0.9566\n"
     ]
    }
   ],
   "source": [
    "from sklearn.model_selection import StratifiedKFold\n",
    "from sklearn.base import clone\n",
    "\n",
    "skfolds = StratifiedKFold(n_splits=3, random_state=42, shuffle=True)\n",
    "\n",
    "for train_index, test_index in skfolds.split(X_train, y_train_5):\n",
    "    clone_clf = clone(sgd_clf)\n",
    "    X_train_folds = X_train[train_index]\n",
    "    y_train_folds = y_train_5[train_index]\n",
    "    X_test_fold = X_train[test_index]\n",
    "    y_test_fold = y_train_5[test_index]\n",
    "    \n",
    "    clone_clf.fit(X_train_folds, y_train_folds)\n",
    "    y_pred = clone_clf.predict(X_test_fold)\n",
    "    n_correct = sum(y_pred == y_test_fold)\n",
    "    print(n_correct / len(y_pred))"
   ]
  },
  {
   "cell_type": "code",
   "execution_count": 12,
   "id": "touched-taylor",
   "metadata": {},
   "outputs": [
    {
     "data": {
      "text/plain": [
       "array([0.97185, 0.96455, 0.9646 ])"
      ]
     },
     "execution_count": 12,
     "metadata": {},
     "output_type": "execute_result"
    }
   ],
   "source": [
    "from sklearn.model_selection import cross_val_score\n",
    "cross_val_score(sgd_clf, X_train, y_train_5, cv=3, scoring=\"accuracy\")"
   ]
  },
  {
   "cell_type": "markdown",
   "id": "comic-indonesia",
   "metadata": {},
   "source": [
    "A acurácia do modelo está acima de 95%, isso é muito bom. Porém, isso não quer dizer que o modelo generaliza bem, isso quer dizer que ele conseguiu classificar corretamente uma das classes do conjunto de dados, e a sua medida de acurácia está muito mais relacionada com a quantidade de instâncias dessa classe."
   ]
  },
  {
   "cell_type": "markdown",
   "id": "sunset-slovakia",
   "metadata": {},
   "source": [
    "Um classificador simples que tivesse a tarefa de classificar todas imagens que não são o número 5, conseguiria muito facilmente uma acurácia acima de 90%, pois somente 10% das imagens são 5, e com isso, se ela sempre dizer que não é 5, terá no mínimo 90% de acurácia."
   ]
  },
  {
   "cell_type": "markdown",
   "id": "dynamic-engineer",
   "metadata": {},
   "source": [
    "Por fim, conclui-se que a acurácia não é a medida mais indicada para avaliar classificadores, especialmente nos casos em que o conjunto de dados é assimétrico, isso é, não possui um balanceamente no número de instâncias em cada classe."
   ]
  },
  {
   "cell_type": "markdown",
   "id": "strange-football",
   "metadata": {},
   "source": [
    "### Matriz de Confusão"
   ]
  },
  {
   "cell_type": "markdown",
   "id": "thick-fever",
   "metadata": {},
   "source": [
    "A matriz de confusão calcula quantas vezes uma instância da classe A foi classificada com uma instância da classe B."
   ]
  },
  {
   "cell_type": "code",
   "execution_count": 13,
   "id": "first-theology",
   "metadata": {},
   "outputs": [],
   "source": [
    "from sklearn.model_selection import cross_val_predict\n",
    "\n",
    "y_train_pred = cross_val_predict(sgd_clf, X_train, y_train_5, cv=3)"
   ]
  },
  {
   "cell_type": "code",
   "execution_count": 14,
   "id": "structural-butter",
   "metadata": {},
   "outputs": [
    {
     "data": {
      "text/plain": [
       "array([[53791,   788],\n",
       "       [ 1192,  4229]])"
      ]
     },
     "execution_count": 14,
     "metadata": {},
     "output_type": "execute_result"
    }
   ],
   "source": [
    "from sklearn.metrics import confusion_matrix\n",
    "confusion_matrix(y_train_5, y_train_pred)"
   ]
  },
  {
   "cell_type": "markdown",
   "id": "constitutional-rendering",
   "metadata": {},
   "source": [
    "### Precisão e Revocação"
   ]
  },
  {
   "cell_type": "markdown",
   "id": "verbal-allah",
   "metadata": {},
   "source": [
    "Uma forma de avaliar a classificação de forma mais concisa é por meio da precisão e da revocação. A precisão nada mais é do que a acurácia das previsões positivas. Essa medida é utilizada em conjunto com a revocação (ou sensibilidade), que é a taxa de instâncias positivas que são corretamente detectadas pelo classificador."
   ]
  },
  {
   "cell_type": "code",
   "execution_count": 15,
   "id": "round-parcel",
   "metadata": {},
   "outputs": [
    {
     "data": {
      "text/plain": [
       "0.8429340243173211"
      ]
     },
     "execution_count": 15,
     "metadata": {},
     "output_type": "execute_result"
    }
   ],
   "source": [
    "from sklearn.metrics import precision_score, recall_score\n",
    "precision_score(y_train_5, y_train_pred)  # == 4499 / (4499 + 1417)"
   ]
  },
  {
   "cell_type": "code",
   "execution_count": 16,
   "id": "heated-gossip",
   "metadata": {},
   "outputs": [
    {
     "data": {
      "text/plain": [
       "0.7801143700424276"
      ]
     },
     "execution_count": 16,
     "metadata": {},
     "output_type": "execute_result"
    }
   ],
   "source": [
    "recall_score(y_train_5, y_train_pred)  # == 4499 / (4499 + 922)"
   ]
  },
  {
   "cell_type": "markdown",
   "id": "specified-snapshot",
   "metadata": {},
   "source": [
    "A combinação dessas duas métricas é chamada de *pontuação F1*. Essa pontuação é a *média harmônica* da precisão e revocação. A média harmônica dá muito mais peso aos valores mais baixos. Com isso, o classificador só obterá uma pontuação F1 alta se a revocação e precisão forem altas."
   ]
  },
  {
   "cell_type": "code",
   "execution_count": 17,
   "id": "remarkable-contributor",
   "metadata": {},
   "outputs": [
    {
     "data": {
      "text/plain": [
       "0.8103084882161333"
      ]
     },
     "execution_count": 17,
     "metadata": {},
     "output_type": "execute_result"
    }
   ],
   "source": [
    "from sklearn.metrics import f1_score\n",
    "f1_score(y_train_5, y_train_pred)"
   ]
  },
  {
   "cell_type": "markdown",
   "id": "cooperative-edgar",
   "metadata": {},
   "source": [
    "### Compensação da Precisão/Revocação"
   ]
  },
  {
   "cell_type": "markdown",
   "id": "moral-testing",
   "metadata": {},
   "source": [
    "As duas medidas são contrárias no que tange a otimização. Não é possível obter uma precisão e revocação perfeitas, isso se dá devido ao fato de que ao aumentar uma das medidas, a outra invariavelmente irá cair. Para que se aumente a precisão, isso é, o número de verdadeiros positivos, será necessário \"apertar\" o limiar de decisão do classificador, fazendo assim com que ele seja mais criterioso. Isso consequentemente fará com que o classificador reconheca menos instâncias erradas de uma determinada classe, aumentando assim tanto o verdadeiro positivo, como também o falso negativo, que por sua vez irá diminuir a revocação."
   ]
  },
  {
   "cell_type": "code",
   "execution_count": 18,
   "id": "arbitrary-dispatch",
   "metadata": {},
   "outputs": [
    {
     "data": {
      "text/plain": [
       "array([393.22260716])"
      ]
     },
     "execution_count": 18,
     "metadata": {},
     "output_type": "execute_result"
    }
   ],
   "source": [
    "y_scores = sgd_clf.decision_function([some_digit])\n",
    "y_scores"
   ]
  },
  {
   "cell_type": "code",
   "execution_count": 19,
   "id": "widespread-carolina",
   "metadata": {},
   "outputs": [
    {
     "data": {
      "text/plain": [
       "array([ True])"
      ]
     },
     "execution_count": 19,
     "metadata": {},
     "output_type": "execute_result"
    }
   ],
   "source": [
    "threshold = 0\n",
    "y_some_digit_pred = (y_scores > threshold)\n",
    "y_some_digit_pred"
   ]
  },
  {
   "cell_type": "markdown",
   "id": "practical-petite",
   "metadata": {},
   "source": [
    "Com limiar 0 o classificador previu a classe corretamente como um 5, vamos aumentar o limiar para comparação."
   ]
  },
  {
   "cell_type": "code",
   "execution_count": 20,
   "id": "improved-think",
   "metadata": {},
   "outputs": [
    {
     "data": {
      "text/plain": [
       "array([False])"
      ]
     },
     "execution_count": 20,
     "metadata": {},
     "output_type": "execute_result"
    }
   ],
   "source": [
    "threshold = 200000\n",
    "y_some_digit_pred = (y_scores > threshold)\n",
    "y_some_digit_pred"
   ]
  },
  {
   "cell_type": "markdown",
   "id": "surprising-acrylic",
   "metadata": {},
   "source": [
    "O classificador detectou quando o limiar era 0, mas não detectou com o limiar 200 mil, isso confirma que aumentar o limiar diminui a revocação."
   ]
  },
  {
   "cell_type": "markdown",
   "id": "empirical-sheffield",
   "metadata": {},
   "source": [
    "A fim de descobrir qual o limiar ideal, iremos obter as pontuações de todas as instâncias no conjunto de treinamento, mas dessa vez especificando que deseja que ela retorna as pontuações da decisão em vez das previsões:"
   ]
  },
  {
   "cell_type": "code",
   "execution_count": 21,
   "id": "checked-strip",
   "metadata": {},
   "outputs": [],
   "source": [
    "y_scores = cross_val_predict(sgd_clf, X_train, y_train_5, cv=3,\n",
    "                             method=\"decision_function\")"
   ]
  },
  {
   "cell_type": "code",
   "execution_count": 22,
   "id": "varied-dollar",
   "metadata": {},
   "outputs": [],
   "source": [
    "from sklearn.metrics import precision_recall_curve\n",
    "\n",
    "precisions, recalls, thresholds = precision_recall_curve(y_train_5, y_scores)"
   ]
  },
  {
   "cell_type": "code",
   "execution_count": 23,
   "id": "economic-truth",
   "metadata": {},
   "outputs": [],
   "source": [
    "def plot_precision_recall_vs_threshold(precisions, recalls, thresholds):\n",
    "    plt.plot(thresholds, precisions[:-1], \"b--\", label=\"Precision\")\n",
    "    plt.plot(thresholds, recalls[:-1], \"g-\", label=\"Recall\")\n",
    "    plt.xlabel(\"Threshold\")\n",
    "    plt.legend(loc=\"center left\")\n",
    "    plt.ylim([0, 1])"
   ]
  },
  {
   "cell_type": "code",
   "execution_count": 24,
   "id": "elegant-contract",
   "metadata": {},
   "outputs": [
    {
     "data": {
      "image/png": "[encoded data removed]",
      "text/plain": [
       "<Figure size 432x288 with 1 Axes>"
      ]
     },
     "metadata": {
      "needs_background": "light"
     },
     "output_type": "display_data"
    }
   ],
   "source": [
    "plot_precision_recall_vs_threshold(precisions, recalls, thresholds)\n",
    "plt.show()"
   ]
  },
  {
   "cell_type": "markdown",
   "id": "acceptable-motion",
   "metadata": {},
   "source": [
    "### A Curva ROC"
   ]
  },
  {
   "cell_type": "markdown",
   "id": "polished-flooring",
   "metadata": {},
   "source": [
    "A curva das *características operacionais do receptor* (ROC, do inglês) é outra ferramenta comum utilizada com classificadores binários. Essa curva plota a *taxa de verdadeiros positivos* (TPR) versus a *taxa de falsos positivos* (FPR). Essa taxa de falsos positivos é igual a 1 menos a *taxa de verdadeiros negativos* (TNR), que por sua vez é a razão de instâncias negativas que são corretamente classificadas como negativas, e também é chamada de *especificidade*. Portanto, a curva ROC plota a *sensibilidade* versus 1 - *especificidade*."
   ]
  },
  {
   "cell_type": "markdown",
   "id": "standard-picnic",
   "metadata": {},
   "source": [
    "Para plotar a curva ROC primeiro você precisa calcular a TPR e FPR para vários valores de limiares usando a função roc_curve():"
   ]
  },
  {
   "cell_type": "code",
   "execution_count": 25,
   "id": "positive-projector",
   "metadata": {},
   "outputs": [],
   "source": [
    "from sklearn.metrics import roc_curve\n",
    "\n",
    "fpr, tpr, thresholds = roc_curve(y_train_5, y_scores)"
   ]
  },
  {
   "cell_type": "code",
   "execution_count": 26,
   "id": "stable-going",
   "metadata": {},
   "outputs": [],
   "source": [
    "def plot_roc_curve(fpr, tpr, label=None):\n",
    "    plt.plot(fpr, tpr, linewidth=2, label=label)\n",
    "    plt.plot([0, 1], [0, 1], 'k--')\n",
    "    plt.axis([0, 1, 0, 1])\n",
    "    plt.xlabel('False Positive Rate')\n",
    "    plt.ylabel('True Positive Rate')"
   ]
  },
  {
   "cell_type": "code",
   "execution_count": 27,
   "id": "nutritional-forum",
   "metadata": {},
   "outputs": [
    {
     "data": {
      "image/png": "[encoded data removed]",
      "text/plain": [
       "<Figure size 432x288 with 1 Axes>"
      ]
     },
     "metadata": {
      "needs_background": "light"
     },
     "output_type": "display_data"
    }
   ],
   "source": [
    "plot_roc_curve(fpr, tpr)\n",
    "plt.show()"
   ]
  },
  {
   "cell_type": "markdown",
   "id": "comparative-glenn",
   "metadata": {},
   "source": [
    "Uma maneira de comparar classificadores é medir a *área abaixo da curva* (AUC, do inglês). Um classificador perfeito terá um ROC AUC igual a 1, enquanto um classificador puramente aleatório terá um ROC AUC igual a 0,5."
   ]
  },
  {
   "cell_type": "code",
   "execution_count": 28,
   "id": "painful-collection",
   "metadata": {},
   "outputs": [
    {
     "data": {
      "text/plain": [
       "0.964296442715093"
      ]
     },
     "execution_count": 28,
     "metadata": {},
     "output_type": "execute_result"
    }
   ],
   "source": [
    "from sklearn.metrics import roc_auc_score\n",
    "roc_auc_score(y_train_5, y_scores)"
   ]
  },
  {
   "cell_type": "markdown",
   "id": "described-burton",
   "metadata": {},
   "source": [
    "Você deve preferir a curva precisão/revocação (PR) sempre que a classe positiva for rara ou quando se preocupar mais com os falsos positivos do que com os falsos negativos, e a curva ROC em caso contrário."
   ]
  },
  {
   "cell_type": "markdown",
   "id": "bizarre-celtic",
   "metadata": {},
   "source": [
    "Vamos comparar um RandomForestClassifier com o SGDClassifier."
   ]
  },
  {
   "cell_type": "code",
   "execution_count": 29,
   "id": "operational-guinea",
   "metadata": {},
   "outputs": [],
   "source": [
    "from sklearn.ensemble import RandomForestClassifier\n",
    "\n",
    "forest_clf = RandomForestClassifier(random_state=42)\n",
    "y_probas_forest = cross_val_predict(forest_clf, X_train, y_train_5, cv=3,\n",
    "                                    method=\"predict_proba\")"
   ]
  },
  {
   "cell_type": "markdown",
   "id": "processed-impact",
   "metadata": {},
   "source": [
    "Como a curva ROC precisa de pontuação e não probabilidades, iremos utilizar a probabilidade da classe positiva como a pontuação:"
   ]
  },
  {
   "cell_type": "code",
   "execution_count": 30,
   "id": "brief-charger",
   "metadata": {},
   "outputs": [],
   "source": [
    "y_scores_forest = y_probas_forest[:, 1]  # pontuação = probabilidade de classe positiva\n",
    "fpr_forest, tpr_forest, thresholds_forest = roc_curve(y_train_5, y_scores_forest)"
   ]
  },
  {
   "cell_type": "code",
   "execution_count": 31,
   "id": "headed-reference",
   "metadata": {},
   "outputs": [
    {
     "data": {
      "image/png": "[encoded data removed]",
      "text/plain": [
       "<Figure size 432x288 with 1 Axes>"
      ]
     },
     "metadata": {
      "needs_background": "light"
     },
     "output_type": "display_data"
    }
   ],
   "source": [
    "plt.plot(fpr, tpr, \"b:\", label=\"SGD\")\n",
    "plot_roc_curve(fpr_forest, tpr_forest, \"Random Forest\")\n",
    "plt.legend(loc=\"lower right\")\n",
    "plt.show()"
   ]
  },
  {
   "cell_type": "code",
   "execution_count": 32,
   "id": "allied-thread",
   "metadata": {},
   "outputs": [
    {
     "data": {
      "text/plain": [
       "0.9984388491811103"
      ]
     },
     "execution_count": 32,
     "metadata": {},
     "output_type": "execute_result"
    }
   ],
   "source": [
    "roc_auc_score(y_train_5, y_scores_forest)"
   ]
  },
  {
   "cell_type": "markdown",
   "id": "persistent-williams",
   "metadata": {},
   "source": [
    "### Classificação Multiclasse"
   ]
  },
  {
   "cell_type": "markdown",
   "id": "circular-intent",
   "metadata": {},
   "source": [
    "Até agora estávamos classificando em duas classes, 5 e não-5. Agora iremos classificar múltiplas classes de símbolos do MNIST. Existem modelos que trabalham nativamente com múltiplas classes, como Floresta Aleatória ou Naive-Bayes, outros funcionam somente com classificação binária, como o SVM, mas que podem ser utilizados para classificar múltiplas classes a partir de algumas técnicas."
   ]
  },
  {
   "cell_type": "markdown",
   "id": "faced-locator",
   "metadata": {},
   "source": [
    "É possível utilizar um classificador binário para classificar múltiplas classes a partir da utilização de diversos classificadores, um para cada classe, avaliando as pontuações de cada um deles e selecionando aquele com a pontuação maior. Isso é chamado de estratégia *um contra todos* (OvA, do inglês)."
   ]
  },
  {
   "cell_type": "markdown",
   "id": "german-mexico",
   "metadata": {},
   "source": [
    "Existe também como treinar um classificador binário para cada par de dígitos, por exemplo, um para distinguir entre 0s e 1s, outro para 0s e 2s, outro para 1s e 2s e assim por diante. Isso é chamado de estratégia *um contra um* (OvO, do inglês). A principal vantagem dessa abordagem é que cada classificador precisa ser treinado somente para as duas classes que deve distinguir."
   ]
  },
  {
   "cell_type": "markdown",
   "id": "cellular-cross",
   "metadata": {},
   "source": [
    "Alguns algoritmos, como o SVM, escalam mal com o tamanho do conjunto de treinamento, nesses casos, OvO é melhor, pois é mais rápido treinar muitos classificadores em pequenos conjuntos do que treinar alguns classificadores em grandes conjuntos. Entretanto, OvA é o melhor para a maioria dos algoritmos de classificação binária."
   ]
  },
  {
   "cell_type": "markdown",
   "id": "objective-viewer",
   "metadata": {},
   "source": [
    "O scikit-learn detecta quando você tenta utilizar um algoritmo de classificação binária para uma tarefa de classificação multiclasse, e automaticamente executa o OvA. Exceto para SVM, nesse caso ele utiliza OvO."
   ]
  },
  {
   "cell_type": "code",
   "execution_count": 33,
   "id": "french-fraction",
   "metadata": {},
   "outputs": [
    {
     "data": {
      "text/plain": [
       "array([5], dtype=int8)"
      ]
     },
     "execution_count": 33,
     "metadata": {},
     "output_type": "execute_result"
    }
   ],
   "source": [
    "sgd_clf.fit(X_train, y_train)  # y_train, não y_train_5\n",
    "sgd_clf.predict([some_digit])"
   ]
  },
  {
   "cell_type": "markdown",
   "id": "drawn-spyware",
   "metadata": {},
   "source": [
    "Nos bastidores, o scikit-learn treinou 10 classificadores binários, obteve sua pontuação de decisão para a imagem e selecionou a classe com a maior pontuação."
   ]
  },
  {
   "cell_type": "code",
   "execution_count": 34,
   "id": "solar-highlight",
   "metadata": {},
   "outputs": [
    {
     "data": {
      "text/plain": [
       "array([[ -3782.04804647, -18096.09433858,  -9440.31447776,\n",
       "         -3334.57310407, -20594.62937183,   3361.63325166,\n",
       "        -27461.71332372, -16160.14748021,  -9194.83934804,\n",
       "        -18330.88112891]])"
      ]
     },
     "execution_count": 34,
     "metadata": {},
     "output_type": "execute_result"
    }
   ],
   "source": [
    "some_digit_scores = sgd_clf.decision_function([some_digit])\n",
    "some_digit_scores"
   ]
  },
  {
   "cell_type": "code",
   "execution_count": 35,
   "id": "military-hayes",
   "metadata": {},
   "outputs": [
    {
     "data": {
      "text/plain": [
       "5"
      ]
     },
     "execution_count": 35,
     "metadata": {},
     "output_type": "execute_result"
    }
   ],
   "source": [
    "np.argmax(some_digit_scores)"
   ]
  },
  {
   "cell_type": "code",
   "execution_count": 36,
   "id": "external-sunglasses",
   "metadata": {},
   "outputs": [
    {
     "data": {
      "text/plain": [
       "array([0, 1, 2, 3, 4, 5, 6, 7, 8, 9], dtype=int8)"
      ]
     },
     "execution_count": 36,
     "metadata": {},
     "output_type": "execute_result"
    }
   ],
   "source": [
    "sgd_clf.classes_"
   ]
  },
  {
   "cell_type": "code",
   "execution_count": 37,
   "id": "spatial-concrete",
   "metadata": {},
   "outputs": [
    {
     "data": {
      "text/plain": [
       "5"
      ]
     },
     "execution_count": 37,
     "metadata": {},
     "output_type": "execute_result"
    }
   ],
   "source": [
    "sgd_clf.classes_[5]"
   ]
  },
  {
   "cell_type": "markdown",
   "id": "million-dubai",
   "metadata": {},
   "source": [
    "É possível especificar qual das duas estratégias será utilizada:"
   ]
  },
  {
   "cell_type": "code",
   "execution_count": 38,
   "id": "korean-premises",
   "metadata": {},
   "outputs": [
    {
     "data": {
      "text/plain": [
       "array([5], dtype=int8)"
      ]
     },
     "execution_count": 38,
     "metadata": {},
     "output_type": "execute_result"
    }
   ],
   "source": [
    "from sklearn.multiclass import OneVsOneClassifier\n",
    "ovo_clf = OneVsOneClassifier(SGDClassifier(random_state=42))\n",
    "ovo_clf.fit(X_train, y_train)\n",
    "ovo_clf.predict([some_digit])"
   ]
  },
  {
   "cell_type": "code",
   "execution_count": 39,
   "id": "limited-regard",
   "metadata": {},
   "outputs": [
    {
     "data": {
      "text/plain": [
       "45"
      ]
     },
     "execution_count": 39,
     "metadata": {},
     "output_type": "execute_result"
    }
   ],
   "source": [
    "len(ovo_clf.estimators_)"
   ]
  },
  {
   "cell_type": "markdown",
   "id": "outstanding-alaska",
   "metadata": {},
   "source": [
    "Treinar um RandomForestClassifier é muito fácil, pois ele é um classificador multiclasse:"
   ]
  },
  {
   "cell_type": "code",
   "execution_count": 40,
   "id": "organized-forestry",
   "metadata": {},
   "outputs": [
    {
     "data": {
      "text/plain": [
       "array([5], dtype=int8)"
      ]
     },
     "execution_count": 40,
     "metadata": {},
     "output_type": "execute_result"
    }
   ],
   "source": [
    "forest_clf.fit(X_train, y_train)\n",
    "forest_clf.predict([some_digit])"
   ]
  },
  {
   "cell_type": "code",
   "execution_count": 41,
   "id": "large-allowance",
   "metadata": {},
   "outputs": [
    {
     "data": {
      "text/plain": [
       "array([[0.03, 0.01, 0.  , 0.02, 0.01, 0.9 , 0.01, 0.  , 0.  , 0.02]])"
      ]
     },
     "execution_count": 41,
     "metadata": {},
     "output_type": "execute_result"
    }
   ],
   "source": [
    "forest_clf.predict_proba([some_digit])"
   ]
  },
  {
   "cell_type": "markdown",
   "id": "genetic-service",
   "metadata": {},
   "source": [
    "O classificador tem 85% de confiança de que o número em questão é um 5."
   ]
  },
  {
   "cell_type": "markdown",
   "id": "norman-audio",
   "metadata": {},
   "source": [
    "Vamos agora avaliar a precisão utilizando a validação cruzada."
   ]
  },
  {
   "cell_type": "code",
   "execution_count": 42,
   "id": "periodic-explanation",
   "metadata": {},
   "outputs": [
    {
     "data": {
      "text/plain": [
       "array([0.8537 , 0.8847 , 0.88445])"
      ]
     },
     "execution_count": 42,
     "metadata": {},
     "output_type": "execute_result"
    }
   ],
   "source": [
    "cross_val_score(sgd_clf, X_train, y_train, cv=3, scoring=\"accuracy\")"
   ]
  },
  {
   "cell_type": "markdown",
   "id": "accomplished-cradle",
   "metadata": {},
   "source": [
    "É possível melhorar a precisão dimensionando as entradas:"
   ]
  },
  {
   "cell_type": "code",
   "execution_count": 43,
   "id": "hazardous-intermediate",
   "metadata": {},
   "outputs": [
    {
     "name": "stderr",
     "output_type": "stream",
     "text": [
      "/home/dystopiandroid/anaconda3/lib/python3.8/site-packages/sklearn/linear_model/_stochastic_gradient.py:570: ConvergenceWarning: Maximum number of iteration reached before convergence. Consider increasing max_iter to improve the fit.\n",
      "  warnings.warn(\"Maximum number of iteration reached before \"\n",
      "/home/dystopiandroid/anaconda3/lib/python3.8/site-packages/sklearn/linear_model/_stochastic_gradient.py:570: ConvergenceWarning: Maximum number of iteration reached before convergence. Consider increasing max_iter to improve the fit.\n",
      "  warnings.warn(\"Maximum number of iteration reached before \"\n"
     ]
    },
    {
     "data": {
      "text/plain": [
       "array([0.90665, 0.9016 , 0.89765])"
      ]
     },
     "execution_count": 43,
     "metadata": {},
     "output_type": "execute_result"
    }
   ],
   "source": [
    "from sklearn.preprocessing import StandardScaler\n",
    "scaler = StandardScaler()\n",
    "X_train_scaled = scaler.fit_transform(X_train.astype(np.float64))\n",
    "cross_val_score(sgd_clf, X_train_scaled, y_train, cv=3, scoring=\"accuracy\")"
   ]
  },
  {
   "cell_type": "markdown",
   "id": "frozen-issue",
   "metadata": {},
   "source": [
    "### Análise de Erro"
   ]
  },
  {
   "cell_type": "markdown",
   "id": "silver-billion",
   "metadata": {},
   "source": [
    "Depois de encontrar um modelo promissor, é normal querer melhorá-lo, para isso, é importante analisar os erros do sistema. Iremos fazer isso a partir da matriz de confusão."
   ]
  },
  {
   "cell_type": "code",
   "execution_count": 44,
   "id": "other-stations",
   "metadata": {},
   "outputs": [
    {
     "name": "stderr",
     "output_type": "stream",
     "text": [
      "/home/dystopiandroid/anaconda3/lib/python3.8/site-packages/sklearn/linear_model/_stochastic_gradient.py:570: ConvergenceWarning: Maximum number of iteration reached before convergence. Consider increasing max_iter to improve the fit.\n",
      "  warnings.warn(\"Maximum number of iteration reached before \"\n",
      "/home/dystopiandroid/anaconda3/lib/python3.8/site-packages/sklearn/linear_model/_stochastic_gradient.py:570: ConvergenceWarning: Maximum number of iteration reached before convergence. Consider increasing max_iter to improve the fit.\n",
      "  warnings.warn(\"Maximum number of iteration reached before \"\n"
     ]
    }
   ],
   "source": [
    "y_train_pred = cross_val_predict(sgd_clf, X_train_scaled, y_train, cv=3)\n",
    "conf_mx = confusion_matrix(y_train, y_train_pred)"
   ]
  },
  {
   "cell_type": "code",
   "execution_count": 45,
   "id": "gentle-cookbook",
   "metadata": {},
   "outputs": [
    {
     "data": {
      "text/plain": [
       "array([[5605,    0,   20,    5,    9,   46,   33,    4,  199,    2],\n",
       "       [   1, 6420,   46,   22,    4,   42,    5,   11,  180,   11],\n",
       "       [  28,   28, 5271,   91,   71,   28,   67,   38,  326,   10],\n",
       "       [  27,   20,  124, 5230,    0,  221,   27,   41,  372,   69],\n",
       "       [  14,   16,   45,   12, 5239,   11,   38,   19,  286,  162],\n",
       "       [  29,   19,   31,  160,   52, 4533,   77,   17,  440,   63],\n",
       "       [  27,   20,   49,    2,   42,   99, 5551,    7,  121,    0],\n",
       "       [  21,   14,   57,   26,   51,   11,    5, 5719,  151,  210],\n",
       "       [  18,   65,   41,   99,    4,  126,   33,    9, 5410,   46],\n",
       "       [  24,   26,   30,   64,  121,   39,    1,  185,  319, 5140]])"
      ]
     },
     "execution_count": 45,
     "metadata": {},
     "output_type": "execute_result"
    }
   ],
   "source": [
    "conf_mx"
   ]
  },
  {
   "cell_type": "code",
   "execution_count": 46,
   "id": "narrative-wealth",
   "metadata": {},
   "outputs": [
    {
     "data": {
      "image/png": "[encoded data removed]",
      "text/plain": [
       "<Figure size 288x288 with 1 Axes>"
      ]
     },
     "metadata": {
      "needs_background": "light"
     },
     "output_type": "display_data"
    }
   ],
   "source": [
    "plt.matshow(conf_mx, cmap=plt.cm.gray)\n",
    "plt.show()"
   ]
  },
  {
   "cell_type": "markdown",
   "id": "under-mineral",
   "metadata": {},
   "source": [
    "Focaremos a plotagem nos erros, Primeiro, você precisa dividir cada valor na matriz de confusão pelo número de imagens na classe correspondente, para que possa comparar as taxas de erro em vez do número absoluto de erros ( o que tornaria as classes mais frequentes parecerem injustamente mal arrumadas):"
   ]
  },
  {
   "cell_type": "code",
   "execution_count": 47,
   "id": "statutory-double",
   "metadata": {},
   "outputs": [],
   "source": [
    "row_sums = conf_mx.sum(axis=1, keepdims=True)\n",
    "norm_conf_mx = conf_mx / row_sums"
   ]
  },
  {
   "cell_type": "markdown",
   "id": "forward-aberdeen",
   "metadata": {},
   "source": [
    "Agora, preencheremos a diagonal com zeros para manter apenas os erros e plotar o resultado:"
   ]
  },
  {
   "cell_type": "code",
   "execution_count": 48,
   "id": "significant-cartoon",
   "metadata": {},
   "outputs": [
    {
     "data": {
      "image/png": "[encoded data removed]",
      "text/plain": [
       "<Figure size 288x288 with 1 Axes>"
      ]
     },
     "metadata": {
      "needs_background": "light"
     },
     "output_type": "display_data"
    }
   ],
   "source": [
    "np.fill_diagonal(norm_conf_mx, 0)\n",
    "plt.matshow(norm_conf_mx, cmap=plt.cm.gray)\n",
    "plt.show()"
   ]
  },
  {
   "cell_type": "markdown",
   "id": "documented-accused",
   "metadata": {},
   "source": [
    "As linhas são as classes reais, as colunas são as classes previstas. As colunas das classes 8 e nova são bem claras, o que quer dizer que muitas imagens estão sendo erroneamente classificadas como 8 ou 9. Da mesma forma, as linhas para as classes 8 e 9 também são muito brilhantes, informando que 8 e 9 geralmente são confundidos com outros dígitos."
   ]
  },
  {
   "cell_type": "markdown",
   "id": "under-korea",
   "metadata": {},
   "source": [
    "Por outro lado, algumas linhas são bastante escuras, como a linha 1: isso significa que a maioria dos 1 são classificados corretamente."
   ]
  },
  {
   "cell_type": "markdown",
   "id": "offshore-commitment",
   "metadata": {},
   "source": [
    "Vamos analisar erros individuais para obter informações sobre o que o nosso classificador está fazendo e por que está falhando."
   ]
  },
  {
   "cell_type": "code",
   "execution_count": 49,
   "id": "christian-sharing",
   "metadata": {},
   "outputs": [],
   "source": [
    "import matplotlib as mpl\n",
    "def plot_digits(instances, images_per_row=10, **options):\n",
    "    size = 28\n",
    "    images_per_row = min(len(instances), images_per_row)\n",
    "    images = [instance.reshape(size,size) for instance in instances]\n",
    "    n_rows = (len(instances) - 1) // images_per_row + 1\n",
    "    row_images = []\n",
    "    n_empty = n_rows * images_per_row - len(instances)\n",
    "    images.append(np.zeros((size, size * n_empty)))\n",
    "    for row in range(n_rows):\n",
    "        rimages = images[row * images_per_row : (row + 1) * images_per_row]\n",
    "        row_images.append(np.concatenate(rimages, axis=1))\n",
    "    image = np.concatenate(row_images, axis=0)\n",
    "    plt.imshow(image, cmap = mpl.cm.binary, **options)\n",
    "    plt.axis(\"off\")"
   ]
  },
  {
   "cell_type": "code",
   "execution_count": 50,
   "id": "danish-publication",
   "metadata": {},
   "outputs": [
    {
     "data": {
      "image/png": "[encoded data removed]",
      "text/plain": [
       "<Figure size 576x576 with 4 Axes>"
      ]
     },
     "metadata": {
      "needs_background": "light"
     },
     "output_type": "display_data"
    }
   ],
   "source": [
    "cl_a, cl_b = 3, 5\n",
    "X_aa = X_train[(y_train == cl_a) & (y_train_pred == cl_a)]\n",
    "X_ab = X_train[(y_train == cl_a) & (y_train_pred == cl_b)]\n",
    "X_ba = X_train[(y_train == cl_b) & (y_train_pred == cl_a)]\n",
    "X_bb = X_train[(y_train == cl_b) & (y_train_pred == cl_b)]\n",
    "\n",
    "plt.figure(figsize=(8,8))\n",
    "plt.subplot(221); plot_digits(X_aa[:25], images_per_row=5)\n",
    "plt.subplot(222); plot_digits(X_ab[:25], images_per_row=5)\n",
    "plt.subplot(223); plot_digits(X_ba[:25], images_per_row=5)\n",
    "plt.subplot(224); plot_digits(X_bb[:25], images_per_row=5)\n",
    "plt.show()"
   ]
  },
  {
   "cell_type": "markdown",
   "id": "antique-demonstration",
   "metadata": {},
   "source": [
    "Os dois blocos 5 x 5 à esquerda mostram dígitos classificados como 3, e os dois blocos 5 x 5 à direita mostram imagens classificadas como 5."
   ]
  },
  {
   "cell_type": "markdown",
   "id": "atomic-headquarters",
   "metadata": {},
   "source": [
    "A razão dos erros é que usamos um SGDClassifier simples, que é um modelo linear. Tudo o que ele faz é atribuir um peso por classe a cada pixel, e, quando ele vê uma nova imagem, apenas resuma as intensidades dos pixels analisados para obter uma pontuação para cada classe. Então, como o 3 e o 5 diferem apenas em alguns pixels, esse modelo facilmente os confundirá."
   ]
  },
  {
   "cell_type": "markdown",
   "id": "acceptable-farmer",
   "metadata": {},
   "source": [
    "### Classificação Multilabel"
   ]
  },
  {
   "cell_type": "markdown",
   "id": "divided-stamp",
   "metadata": {},
   "source": [
    "As vezes é necessário classificar mais de um objeto em uma imagem, ou mais de uma característica de um determinado dado. Por exemplo, vamos classificar se o dígito do MNIST é grande (maior que 6) e ímpar."
   ]
  },
  {
   "cell_type": "code",
   "execution_count": 51,
   "id": "provincial-space",
   "metadata": {},
   "outputs": [
    {
     "data": {
      "text/plain": [
       "KNeighborsClassifier()"
      ]
     },
     "execution_count": 51,
     "metadata": {},
     "output_type": "execute_result"
    }
   ],
   "source": [
    "from sklearn.neighbors import KNeighborsClassifier\n",
    "\n",
    "y_train_large = (y_train >= 7)\n",
    "y_train_odd = (y_train % 2 == 1)\n",
    "y_multilabel = np.c_[y_train_large, y_train_odd]\n",
    "\n",
    "knn_clf = KNeighborsClassifier()\n",
    "knn_clf.fit(X_train, y_multilabel)"
   ]
  },
  {
   "cell_type": "code",
   "execution_count": 52,
   "id": "finnish-europe",
   "metadata": {},
   "outputs": [
    {
     "data": {
      "text/plain": [
       "array([[False,  True]])"
      ]
     },
     "execution_count": 52,
     "metadata": {},
     "output_type": "execute_result"
    }
   ],
   "source": [
    "knn_clf.predict([some_digit])"
   ]
  },
  {
   "cell_type": "markdown",
   "id": "friendly-meditation",
   "metadata": {},
   "source": [
    "O modelo acertou, isso quer dizer que o dígito 5 não é grande (False) e é ímpar (True)."
   ]
  },
  {
   "cell_type": "markdown",
   "id": "knowing-pointer",
   "metadata": {},
   "source": [
    "Para avaliar o modelo, vamos medir a pontuação F1 para cada rótulo individual e calcular a pontuação média."
   ]
  },
  {
   "cell_type": "code",
   "execution_count": 53,
   "id": "sacred-links",
   "metadata": {},
   "outputs": [
    {
     "data": {
      "text/plain": [
       "0.9774550533205185"
      ]
     },
     "execution_count": 53,
     "metadata": {},
     "output_type": "execute_result"
    }
   ],
   "source": [
    "y_train_knn_pred = cross_val_predict(knn_clf, X_train, y_multilabel, cv=3)\n",
    "f1_score(y_multilabel, y_train_knn_pred, average=\"macro\")"
   ]
  },
  {
   "cell_type": "markdown",
   "id": "artistic-bottle",
   "metadata": {},
   "source": [
    "### Classificação Multioutput"
   ]
  },
  {
   "cell_type": "markdown",
   "id": "suspected-mason",
   "metadata": {},
   "source": [
    "Vamos mostrar agora um tipo de tarefa chamado *multioutput-multiclass*, que é uma generalização da classificação multilabel em que cada rótuo pode ser multiclasse (ou seja, pode ter mais de dois valores possíveis)."
   ]
  },
  {
   "cell_type": "markdown",
   "id": "familiar-madonna",
   "metadata": {},
   "source": [
    "Para ilustrar isso, construiremos um sistema que remova o ruído das imagens. Ele tomará como entrada uma imagem numérica ruidosa, e mostrará (espero) uma imagem numérica limpa, representada como um array de intensidade de pixels assim como as imagens MNIST. Observe que a saída do classificador é multilabel (um rótulo por pixel) e cada rótulo pode ter vários valores (a intensidade dos pixels varia de 0 a 255). É,\n",
    "portanto, um exemplo de um sistema de classificação multioutput."
   ]
  },
  {
   "cell_type": "markdown",
   "id": "possible-biodiversity",
   "metadata": {},
   "source": [
    "Vamos começar adicionando ruído nas imagens do MNIST"
   ]
  },
  {
   "cell_type": "code",
   "execution_count": 58,
   "id": "alternative-bundle",
   "metadata": {},
   "outputs": [],
   "source": [
    "noise = np.random.randint(0, 100, (len(X_train), 784))\n",
    "X_train_mod = X_train + noise\n",
    "noise = np.random.randint(0, 100, (len(X_test), 784))\n",
    "X_test_mod = X_test + noise\n",
    "y_train_mod = X_train\n",
    "y_test_mod = X_test"
   ]
  },
  {
   "cell_type": "code",
   "execution_count": 59,
   "id": "powered-marshall",
   "metadata": {},
   "outputs": [],
   "source": [
    "def plot_digit(data):\n",
    "    image = data.reshape(28, 28)\n",
    "    plt.imshow(image, cmap = mpl.cm.binary,\n",
    "               interpolation=\"nearest\")\n",
    "    plt.axis(\"off\")"
   ]
  },
  {
   "cell_type": "code",
   "execution_count": 61,
   "id": "constitutional-blame",
   "metadata": {},
   "outputs": [
    {
     "data": {
      "image/png": "[encoded data removed]",
      "text/plain": [
       "<Figure size 432x288 with 2 Axes>"
      ]
     },
     "metadata": {
      "needs_background": "light"
     },
     "output_type": "display_data"
    }
   ],
   "source": [
    "some_index = 5500\n",
    "plt.subplot(121); plot_digit(X_test_mod[some_index])\n",
    "plt.subplot(122); plot_digit(y_test_mod[some_index])\n",
    "plt.show()"
   ]
  },
  {
   "cell_type": "markdown",
   "id": "gothic-parish",
   "metadata": {},
   "source": [
    "Agora treinaremos o classificador para fazer com que ele limpe esta imagem:"
   ]
  },
  {
   "cell_type": "code",
   "execution_count": 62,
   "id": "derived-month",
   "metadata": {},
   "outputs": [
    {
     "data": {
      "image/png": "[encoded data removed]",
      "text/plain": [
       "<Figure size 432x288 with 1 Axes>"
      ]
     },
     "metadata": {
      "needs_background": "light"
     },
     "output_type": "display_data"
    }
   ],
   "source": [
    "knn_clf.fit(X_train_mod, y_train_mod)\n",
    "clean_digit = knn_clf.predict([X_test_mod[some_index]])\n",
    "plot_digit(clean_digit)"
   ]
  }
 ],
 "metadata": {
  "kernelspec": {
   "display_name": "Python 3",
   "language": "python",
   "name": "python3"
  },
  "language_info": {
   "codemirror_mode": {
    "name": "ipython",
    "version": 3
   },
   "file_extension": ".py",
   "mimetype": "text/x-python",
   "name": "python",
   "nbconvert_exporter": "python",
   "pygments_lexer": "ipython3",
   "version": "3.8.5"
  }
 },
 "nbformat": 4,
 "nbformat_minor": 5
}
